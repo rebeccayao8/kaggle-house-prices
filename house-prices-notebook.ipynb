{
 "cells": [
  {
   "cell_type": "code",
   "execution_count": 1,
   "metadata": {
    "_cell_guid": "b1076dfc-b9ad-4769-8c92-a6c4dae69d19",
    "_uuid": "8f2839f25d086af736a60e9eeb907d3b93b6e0e5",
    "execution": {
     "iopub.execute_input": "2021-01-07T05:56:44.194879Z",
     "iopub.status.busy": "2021-01-07T05:56:44.193786Z",
     "iopub.status.idle": "2021-01-07T05:56:45.310826Z",
     "shell.execute_reply": "2021-01-07T05:56:45.309826Z"
    },
    "papermill": {
     "duration": 1.168551,
     "end_time": "2021-01-07T05:56:45.310996",
     "exception": false,
     "start_time": "2021-01-07T05:56:44.142445",
     "status": "completed"
    },
    "tags": []
   },
   "outputs": [
    {
     "name": "stdout",
     "output_type": "stream",
     "text": [
      "/kaggle/input/house-prices-advanced-regression-techniques/sample_submission.csv\n",
      "/kaggle/input/house-prices-advanced-regression-techniques/data_description.txt\n",
      "/kaggle/input/house-prices-advanced-regression-techniques/train.csv\n",
      "/kaggle/input/house-prices-advanced-regression-techniques/test.csv\n"
     ]
    }
   ],
   "source": [
    "# This Python 3 environment comes with many helpful analytics libraries installed\n",
    "# It is defined by the kaggle/python Docker image: https://github.com/kaggle/docker-python\n",
    "# For example, here's several helpful packages to load\n",
    "\n",
    "import numpy as np # linear algebra\n",
    "import pandas as pd # data processing, CSV file I/O (e.g. pd.read_csv)\n",
    "import seaborn as sns\n",
    "import matplotlib.pyplot as plt\n",
    "\n",
    "# Input data files are available in the read-only \"../input/\" directory\n",
    "# For example, running this (by clicking run or pressing Shift+Enter) will list all files under the input directory\n",
    "\n",
    "import os\n",
    "for dirname, _, filenames in os.walk('/kaggle/input'):\n",
    "    for filename in filenames:\n",
    "        print(os.path.join(dirname, filename))\n",
    "\n",
    "# You can write up to 20GB to the current directory (/kaggle/working/) that gets preserved as output when you create a version using \"Save & Run All\" \n",
    "# You can also write temporary files to /kaggle/temp/, but they won't be saved outside of the current session\n",
    "%matplotlib inline"
   ]
  },
  {
   "cell_type": "code",
   "execution_count": 2,
   "metadata": {
    "_cell_guid": "79c7e3d0-c299-4dcb-8224-4455121ee9b0",
    "_uuid": "d629ff2d2480ee46fbb7e2d37f6b5fab8052498a",
    "execution": {
     "iopub.execute_input": "2021-01-07T05:56:45.405982Z",
     "iopub.status.busy": "2021-01-07T05:56:45.405097Z",
     "iopub.status.idle": "2021-01-07T05:56:45.511760Z",
     "shell.execute_reply": "2021-01-07T05:56:45.511063Z"
    },
    "papermill": {
     "duration": 0.156462,
     "end_time": "2021-01-07T05:56:45.511871",
     "exception": false,
     "start_time": "2021-01-07T05:56:45.355409",
     "status": "completed"
    },
    "tags": []
   },
   "outputs": [],
   "source": [
    "# Load data\n",
    "test_data = pd.read_csv('../input/house-prices-advanced-regression-techniques/test.csv')\n",
    "train_data = pd.read_csv('../input/house-prices-advanced-regression-techniques/train.csv')"
   ]
  },
  {
   "cell_type": "markdown",
   "metadata": {
    "papermill": {
     "duration": 0.027385,
     "end_time": "2021-01-07T05:56:45.567795",
     "exception": false,
     "start_time": "2021-01-07T05:56:45.540410",
     "status": "completed"
    },
    "tags": []
   },
   "source": [
    "## Data Exploration"
   ]
  },
  {
   "cell_type": "code",
   "execution_count": 3,
   "metadata": {
    "execution": {
     "iopub.execute_input": "2021-01-07T05:56:45.660076Z",
     "iopub.status.busy": "2021-01-07T05:56:45.633073Z",
     "iopub.status.idle": "2021-01-07T05:56:45.681439Z",
     "shell.execute_reply": "2021-01-07T05:56:45.682060Z"
    },
    "papermill": {
     "duration": 0.08717,
     "end_time": "2021-01-07T05:56:45.682234",
     "exception": false,
     "start_time": "2021-01-07T05:56:45.595064",
     "status": "completed"
    },
    "tags": []
   },
   "outputs": [
    {
     "data": {
      "text/html": [
       "<div>\n",
       "<style scoped>\n",
       "    .dataframe tbody tr th:only-of-type {\n",
       "        vertical-align: middle;\n",
       "    }\n",
       "\n",
       "    .dataframe tbody tr th {\n",
       "        vertical-align: top;\n",
       "    }\n",
       "\n",
       "    .dataframe thead th {\n",
       "        text-align: right;\n",
       "    }\n",
       "</style>\n",
       "<table border=\"1\" class=\"dataframe\">\n",
       "  <thead>\n",
       "    <tr style=\"text-align: right;\">\n",
       "      <th></th>\n",
       "      <th>Id</th>\n",
       "      <th>MSSubClass</th>\n",
       "      <th>MSZoning</th>\n",
       "      <th>LotFrontage</th>\n",
       "      <th>LotArea</th>\n",
       "      <th>Street</th>\n",
       "      <th>Alley</th>\n",
       "      <th>LotShape</th>\n",
       "      <th>LandContour</th>\n",
       "      <th>Utilities</th>\n",
       "      <th>...</th>\n",
       "      <th>PoolArea</th>\n",
       "      <th>PoolQC</th>\n",
       "      <th>Fence</th>\n",
       "      <th>MiscFeature</th>\n",
       "      <th>MiscVal</th>\n",
       "      <th>MoSold</th>\n",
       "      <th>YrSold</th>\n",
       "      <th>SaleType</th>\n",
       "      <th>SaleCondition</th>\n",
       "      <th>SalePrice</th>\n",
       "    </tr>\n",
       "  </thead>\n",
       "  <tbody>\n",
       "    <tr>\n",
       "      <th>0</th>\n",
       "      <td>1</td>\n",
       "      <td>60</td>\n",
       "      <td>RL</td>\n",
       "      <td>65.0</td>\n",
       "      <td>8450</td>\n",
       "      <td>Pave</td>\n",
       "      <td>NaN</td>\n",
       "      <td>Reg</td>\n",
       "      <td>Lvl</td>\n",
       "      <td>AllPub</td>\n",
       "      <td>...</td>\n",
       "      <td>0</td>\n",
       "      <td>NaN</td>\n",
       "      <td>NaN</td>\n",
       "      <td>NaN</td>\n",
       "      <td>0</td>\n",
       "      <td>2</td>\n",
       "      <td>2008</td>\n",
       "      <td>WD</td>\n",
       "      <td>Normal</td>\n",
       "      <td>208500</td>\n",
       "    </tr>\n",
       "    <tr>\n",
       "      <th>1</th>\n",
       "      <td>2</td>\n",
       "      <td>20</td>\n",
       "      <td>RL</td>\n",
       "      <td>80.0</td>\n",
       "      <td>9600</td>\n",
       "      <td>Pave</td>\n",
       "      <td>NaN</td>\n",
       "      <td>Reg</td>\n",
       "      <td>Lvl</td>\n",
       "      <td>AllPub</td>\n",
       "      <td>...</td>\n",
       "      <td>0</td>\n",
       "      <td>NaN</td>\n",
       "      <td>NaN</td>\n",
       "      <td>NaN</td>\n",
       "      <td>0</td>\n",
       "      <td>5</td>\n",
       "      <td>2007</td>\n",
       "      <td>WD</td>\n",
       "      <td>Normal</td>\n",
       "      <td>181500</td>\n",
       "    </tr>\n",
       "    <tr>\n",
       "      <th>2</th>\n",
       "      <td>3</td>\n",
       "      <td>60</td>\n",
       "      <td>RL</td>\n",
       "      <td>68.0</td>\n",
       "      <td>11250</td>\n",
       "      <td>Pave</td>\n",
       "      <td>NaN</td>\n",
       "      <td>IR1</td>\n",
       "      <td>Lvl</td>\n",
       "      <td>AllPub</td>\n",
       "      <td>...</td>\n",
       "      <td>0</td>\n",
       "      <td>NaN</td>\n",
       "      <td>NaN</td>\n",
       "      <td>NaN</td>\n",
       "      <td>0</td>\n",
       "      <td>9</td>\n",
       "      <td>2008</td>\n",
       "      <td>WD</td>\n",
       "      <td>Normal</td>\n",
       "      <td>223500</td>\n",
       "    </tr>\n",
       "    <tr>\n",
       "      <th>3</th>\n",
       "      <td>4</td>\n",
       "      <td>70</td>\n",
       "      <td>RL</td>\n",
       "      <td>60.0</td>\n",
       "      <td>9550</td>\n",
       "      <td>Pave</td>\n",
       "      <td>NaN</td>\n",
       "      <td>IR1</td>\n",
       "      <td>Lvl</td>\n",
       "      <td>AllPub</td>\n",
       "      <td>...</td>\n",
       "      <td>0</td>\n",
       "      <td>NaN</td>\n",
       "      <td>NaN</td>\n",
       "      <td>NaN</td>\n",
       "      <td>0</td>\n",
       "      <td>2</td>\n",
       "      <td>2006</td>\n",
       "      <td>WD</td>\n",
       "      <td>Abnorml</td>\n",
       "      <td>140000</td>\n",
       "    </tr>\n",
       "    <tr>\n",
       "      <th>4</th>\n",
       "      <td>5</td>\n",
       "      <td>60</td>\n",
       "      <td>RL</td>\n",
       "      <td>84.0</td>\n",
       "      <td>14260</td>\n",
       "      <td>Pave</td>\n",
       "      <td>NaN</td>\n",
       "      <td>IR1</td>\n",
       "      <td>Lvl</td>\n",
       "      <td>AllPub</td>\n",
       "      <td>...</td>\n",
       "      <td>0</td>\n",
       "      <td>NaN</td>\n",
       "      <td>NaN</td>\n",
       "      <td>NaN</td>\n",
       "      <td>0</td>\n",
       "      <td>12</td>\n",
       "      <td>2008</td>\n",
       "      <td>WD</td>\n",
       "      <td>Normal</td>\n",
       "      <td>250000</td>\n",
       "    </tr>\n",
       "  </tbody>\n",
       "</table>\n",
       "<p>5 rows × 81 columns</p>\n",
       "</div>"
      ],
      "text/plain": [
       "   Id  MSSubClass MSZoning  LotFrontage  LotArea Street Alley LotShape  \\\n",
       "0   1          60       RL         65.0     8450   Pave   NaN      Reg   \n",
       "1   2          20       RL         80.0     9600   Pave   NaN      Reg   \n",
       "2   3          60       RL         68.0    11250   Pave   NaN      IR1   \n",
       "3   4          70       RL         60.0     9550   Pave   NaN      IR1   \n",
       "4   5          60       RL         84.0    14260   Pave   NaN      IR1   \n",
       "\n",
       "  LandContour Utilities  ... PoolArea PoolQC Fence MiscFeature MiscVal MoSold  \\\n",
       "0         Lvl    AllPub  ...        0    NaN   NaN         NaN       0      2   \n",
       "1         Lvl    AllPub  ...        0    NaN   NaN         NaN       0      5   \n",
       "2         Lvl    AllPub  ...        0    NaN   NaN         NaN       0      9   \n",
       "3         Lvl    AllPub  ...        0    NaN   NaN         NaN       0      2   \n",
       "4         Lvl    AllPub  ...        0    NaN   NaN         NaN       0     12   \n",
       "\n",
       "  YrSold  SaleType  SaleCondition  SalePrice  \n",
       "0   2008        WD         Normal     208500  \n",
       "1   2007        WD         Normal     181500  \n",
       "2   2008        WD         Normal     223500  \n",
       "3   2006        WD        Abnorml     140000  \n",
       "4   2008        WD         Normal     250000  \n",
       "\n",
       "[5 rows x 81 columns]"
      ]
     },
     "execution_count": 3,
     "metadata": {},
     "output_type": "execute_result"
    }
   ],
   "source": [
    "train_data.head()"
   ]
  },
  {
   "cell_type": "markdown",
   "metadata": {
    "papermill": {
     "duration": 0.047239,
     "end_time": "2021-01-07T05:56:45.773872",
     "exception": false,
     "start_time": "2021-01-07T05:56:45.726633",
     "status": "completed"
    },
    "tags": []
   },
   "source": [
    "## Data Cleaning"
   ]
  },
  {
   "cell_type": "code",
   "execution_count": 4,
   "metadata": {
    "execution": {
     "iopub.execute_input": "2021-01-07T05:56:45.867748Z",
     "iopub.status.busy": "2021-01-07T05:56:45.867085Z",
     "iopub.status.idle": "2021-01-07T05:56:45.894107Z",
     "shell.execute_reply": "2021-01-07T05:56:45.894782Z"
    },
    "papermill": {
     "duration": 0.076591,
     "end_time": "2021-01-07T05:56:45.894933",
     "exception": false,
     "start_time": "2021-01-07T05:56:45.818342",
     "status": "completed"
    },
    "tags": []
   },
   "outputs": [
    {
     "data": {
      "text/plain": [
       "0"
      ]
     },
     "execution_count": 4,
     "metadata": {},
     "output_type": "execute_result"
    }
   ],
   "source": [
    "# Check for duplicated entries\n",
    "sum(train_data.duplicated())"
   ]
  },
  {
   "cell_type": "markdown",
   "metadata": {
    "papermill": {
     "duration": 0.029155,
     "end_time": "2021-01-07T05:56:45.953346",
     "exception": false,
     "start_time": "2021-01-07T05:56:45.924191",
     "status": "completed"
    },
    "tags": []
   },
   "source": [
    "## Feature Engineering"
   ]
  },
  {
   "cell_type": "markdown",
   "metadata": {
    "papermill": {
     "duration": 0.028791,
     "end_time": "2021-01-07T05:56:46.011178",
     "exception": false,
     "start_time": "2021-01-07T05:56:45.982387",
     "status": "completed"
    },
    "tags": []
   },
   "source": [
    "* SalePrice - the property's sale price in dollars. This is the target variable that you're trying to predict.\n",
    "* MSSubClass: The building class\n",
    "* MSZoning: The general zoning classification\n",
    "* LotFrontage: Linear feet of street connected to property\n",
    "* LotArea: Lot size in square feet\n",
    "* Street: Type of road access\n",
    "* Alley: Type of alley access\n",
    "* LotShape: General shape of property\n",
    "* LandContour: Flatness of the property\n",
    "* Utilities: Type of utilities available\n",
    "* LotConfig: Lot configuration\n",
    "* LandSlope: Slope of property\n",
    "* Neighborhood: Physical locations within Ames city limits\n",
    "* Condition1: Proximity to main road or railroad\n",
    "* Condition2: Proximity to main road or railroad (if a second is present)\n",
    "* BldgType: Type of dwelling\n",
    "* HouseStyle: Style of dwelling\n",
    "* OverallQual: Overall material and finish quality\n",
    "* OverallCond: Overall condition rating\n",
    "* YearBuilt: Original construction date\n",
    "* YearRemodAdd: Remodel date\n",
    "* RoofStyle: Type of roof\n",
    "* RoofMatl: Roof material\n",
    "* Exterior1st: Exterior covering on house\n",
    "* Exterior2nd: Exterior covering on house (if more than one material)\n",
    "* MasVnrType: Masonry veneer type\n",
    "* MasVnrArea: Masonry veneer area in square feet\n",
    "* ExterQual: Exterior material quality\n",
    "* ExterCond: Present condition of the material on the exterior\n",
    "* Foundation: Type of foundation\n",
    "* BsmtQual: Height of the basement\n",
    "* BsmtCond: General condition of the basement\n",
    "* BsmtExposure: Walkout or garden level basement walls\n",
    "* BsmtFinType1: Quality of basement finished area\n",
    "* BsmtFinSF1: Type 1 finished square feet\n",
    "* BsmtFinType2: Quality of second finished area (if present)\n",
    "* BsmtFinSF2: Type 2 finished square feet\n",
    "* BsmtUnfSF: Unfinished square feet of basement area\n",
    "* TotalBsmtSF: Total square feet of basement area\n",
    "* Heating: Type of heating\n",
    "* HeatingQC: Heating quality and condition\n",
    "* CentralAir: Central air conditioning\n",
    "* Electrical: Electrical system\n",
    "* 1stFlrSF: First Floor square feet\n",
    "* 2ndFlrSF: Second floor square feet\n",
    "* LowQualFinSF: Low quality finished square feet (all floors)\n",
    "* GrLivArea: Above grade (ground) living area square feet\n",
    "* BsmtFullBath: Basement full bathrooms\n",
    "* BsmtHalfBath: Basement half bathrooms\n",
    "* FullBath: Full bathrooms above grade\n",
    "* HalfBath: Half baths above grade\n",
    "* Bedroom: Number of bedrooms above basement level\n",
    "* Kitchen: Number of kitchens\n",
    "* KitchenQual: Kitchen quality\n",
    "* TotRmsAbvGrd: Total rooms above grade (does not include bathrooms)\n",
    "* Functional: Home functionality rating\n",
    "* Fireplaces: Number of fireplaces\n",
    "* FireplaceQu: Fireplace quality\n",
    "* GarageType: Garage location\n",
    "* GarageYrBlt: Year garage was built\n",
    "* GarageFinish: Interior finish of the garage\n",
    "* GarageCars: Size of garage in car capacity\n",
    "* GarageArea: Size of garage in square feet\n",
    "* GarageQual: Garage quality\n",
    "* GarageCond: Garage condition\n",
    "* PavedDrive: Paved driveway\n",
    "* WoodDeckSF: Wood deck area in square feet\n",
    "* OpenPorchSF: Open porch area in square feet\n",
    "* EnclosedPorch: Enclosed porch area in square feet\n",
    "* 3SsnPorch: Three season porch area in square feet\n",
    "* ScreenPorch: Screen porch area in square feet\n",
    "* PoolArea: Pool area in square feet\n",
    "* PoolQC: Pool quality\n",
    "* Fence: Fence quality\n",
    "* MiscFeature: Miscellaneous feature not covered in other categories\n",
    "* MiscVal: $Value of miscellaneous feature\n",
    "* MoSold: Month Sold\n",
    "* YrSold: Year Sold\n",
    "* SaleType: Type of sale\n",
    "* SaleCondition: Condition of sale****"
   ]
  },
  {
   "cell_type": "markdown",
   "metadata": {
    "papermill": {
     "duration": 0.028736,
     "end_time": "2021-01-07T05:56:46.069657",
     "exception": false,
     "start_time": "2021-01-07T05:56:46.040921",
     "status": "completed"
    },
    "tags": []
   },
   "source": [
    "#### Additional features to engineer\n",
    "* Total square footage or house\n",
    "* Years since renovation"
   ]
  },
  {
   "cell_type": "code",
   "execution_count": 5,
   "metadata": {
    "execution": {
     "iopub.execute_input": "2021-01-07T05:56:46.136667Z",
     "iopub.status.busy": "2021-01-07T05:56:46.136008Z",
     "iopub.status.idle": "2021-01-07T05:56:46.195538Z",
     "shell.execute_reply": "2021-01-07T05:56:46.194835Z"
    },
    "papermill": {
     "duration": 0.097177,
     "end_time": "2021-01-07T05:56:46.195657",
     "exception": false,
     "start_time": "2021-01-07T05:56:46.098480",
     "status": "completed"
    },
    "tags": []
   },
   "outputs": [
    {
     "name": "stdout",
     "output_type": "stream",
     "text": [
      "<class 'pandas.core.frame.DataFrame'>\n",
      "Int64Index: 2919 entries, 0 to 1458\n",
      "Data columns (total 80 columns):\n",
      " #   Column         Non-Null Count  Dtype  \n",
      "---  ------         --------------  -----  \n",
      " 0   MSSubClass     2919 non-null   int64  \n",
      " 1   MSZoning       2915 non-null   object \n",
      " 2   LotFrontage    2433 non-null   float64\n",
      " 3   LotArea        2919 non-null   int64  \n",
      " 4   Street         2919 non-null   object \n",
      " 5   Alley          198 non-null    object \n",
      " 6   LotShape       2919 non-null   object \n",
      " 7   LandContour    2919 non-null   object \n",
      " 8   Utilities      2917 non-null   object \n",
      " 9   LotConfig      2919 non-null   object \n",
      " 10  LandSlope      2919 non-null   object \n",
      " 11  Neighborhood   2919 non-null   object \n",
      " 12  Condition1     2919 non-null   object \n",
      " 13  Condition2     2919 non-null   object \n",
      " 14  BldgType       2919 non-null   object \n",
      " 15  HouseStyle     2919 non-null   object \n",
      " 16  OverallQual    2919 non-null   int64  \n",
      " 17  OverallCond    2919 non-null   int64  \n",
      " 18  YearBuilt      2919 non-null   int64  \n",
      " 19  YearRemodAdd   2919 non-null   int64  \n",
      " 20  RoofStyle      2919 non-null   object \n",
      " 21  RoofMatl       2919 non-null   object \n",
      " 22  Exterior1st    2918 non-null   object \n",
      " 23  Exterior2nd    2918 non-null   object \n",
      " 24  MasVnrType     2895 non-null   object \n",
      " 25  MasVnrArea     2896 non-null   float64\n",
      " 26  ExterQual      2919 non-null   object \n",
      " 27  ExterCond      2919 non-null   object \n",
      " 28  Foundation     2919 non-null   object \n",
      " 29  BsmtQual       2838 non-null   object \n",
      " 30  BsmtCond       2837 non-null   object \n",
      " 31  BsmtExposure   2837 non-null   object \n",
      " 32  BsmtFinType1   2840 non-null   object \n",
      " 33  BsmtFinSF1     2918 non-null   float64\n",
      " 34  BsmtFinType2   2839 non-null   object \n",
      " 35  BsmtFinSF2     2918 non-null   float64\n",
      " 36  BsmtUnfSF      2918 non-null   float64\n",
      " 37  TotalBsmtSF    2918 non-null   float64\n",
      " 38  Heating        2919 non-null   object \n",
      " 39  HeatingQC      2919 non-null   object \n",
      " 40  CentralAir     2919 non-null   object \n",
      " 41  Electrical     2918 non-null   object \n",
      " 42  1stFlrSF       2919 non-null   int64  \n",
      " 43  2ndFlrSF       2919 non-null   int64  \n",
      " 44  LowQualFinSF   2919 non-null   int64  \n",
      " 45  GrLivArea      2919 non-null   int64  \n",
      " 46  BsmtFullBath   2917 non-null   float64\n",
      " 47  BsmtHalfBath   2917 non-null   float64\n",
      " 48  FullBath       2919 non-null   int64  \n",
      " 49  HalfBath       2919 non-null   int64  \n",
      " 50  BedroomAbvGr   2919 non-null   int64  \n",
      " 51  KitchenAbvGr   2919 non-null   int64  \n",
      " 52  KitchenQual    2918 non-null   object \n",
      " 53  TotRmsAbvGrd   2919 non-null   int64  \n",
      " 54  Functional     2917 non-null   object \n",
      " 55  Fireplaces     2919 non-null   int64  \n",
      " 56  FireplaceQu    1499 non-null   object \n",
      " 57  GarageType     2762 non-null   object \n",
      " 58  GarageYrBlt    2760 non-null   float64\n",
      " 59  GarageFinish   2760 non-null   object \n",
      " 60  GarageCars     2918 non-null   float64\n",
      " 61  GarageArea     2918 non-null   float64\n",
      " 62  GarageQual     2760 non-null   object \n",
      " 63  GarageCond     2760 non-null   object \n",
      " 64  PavedDrive     2919 non-null   object \n",
      " 65  WoodDeckSF     2919 non-null   int64  \n",
      " 66  OpenPorchSF    2919 non-null   int64  \n",
      " 67  EnclosedPorch  2919 non-null   int64  \n",
      " 68  3SsnPorch      2919 non-null   int64  \n",
      " 69  ScreenPorch    2919 non-null   int64  \n",
      " 70  PoolArea       2919 non-null   int64  \n",
      " 71  PoolQC         10 non-null     object \n",
      " 72  Fence          571 non-null    object \n",
      " 73  MiscFeature    105 non-null    object \n",
      " 74  MiscVal        2919 non-null   int64  \n",
      " 75  MoSold         2919 non-null   int64  \n",
      " 76  YrSold         2919 non-null   int64  \n",
      " 77  SaleType       2918 non-null   object \n",
      " 78  SaleCondition  2919 non-null   object \n",
      " 79  train_test     2919 non-null   int64  \n",
      "dtypes: float64(11), int64(26), object(43)\n",
      "memory usage: 1.8+ MB\n"
     ]
    }
   ],
   "source": [
    "# Join training and test data sets for feature engineering\n",
    "train_data['train_test'] = 1\n",
    "test_data['train_test'] = 0\n",
    "\n",
    "train_target = train_data.SalePrice\n",
    "\n",
    "all_data = pd.concat([train_data,test_data])\n",
    "all_data.drop(['SalePrice'], axis=1, inplace=True)\n",
    "all_data.drop(['Id'], inplace=True, axis=1)\n",
    "all_data.reset_index()\n",
    "all_data.info()"
   ]
  },
  {
   "cell_type": "code",
   "execution_count": 6,
   "metadata": {
    "execution": {
     "iopub.execute_input": "2021-01-07T05:56:46.266462Z",
     "iopub.status.busy": "2021-01-07T05:56:46.265720Z",
     "iopub.status.idle": "2021-01-07T05:56:46.271330Z",
     "shell.execute_reply": "2021-01-07T05:56:46.270793Z"
    },
    "papermill": {
     "duration": 0.045327,
     "end_time": "2021-01-07T05:56:46.271440",
     "exception": false,
     "start_time": "2021-01-07T05:56:46.226113",
     "status": "completed"
    },
    "tags": []
   },
   "outputs": [
    {
     "data": {
      "text/plain": [
       "Grvl    120\n",
       "Pave     78\n",
       "Name: Alley, dtype: int64"
      ]
     },
     "execution_count": 6,
     "metadata": {},
     "output_type": "execute_result"
    }
   ],
   "source": [
    "# Look at features missing a lot of missing values: Alley, FireplaceQu, PoolQC, Fence\n",
    "all_data.Alley.value_counts()"
   ]
  },
  {
   "cell_type": "code",
   "execution_count": 7,
   "metadata": {
    "execution": {
     "iopub.execute_input": "2021-01-07T05:56:46.339349Z",
     "iopub.status.busy": "2021-01-07T05:56:46.338718Z",
     "iopub.status.idle": "2021-01-07T05:56:46.343419Z",
     "shell.execute_reply": "2021-01-07T05:56:46.342854Z"
    },
    "papermill": {
     "duration": 0.041436,
     "end_time": "2021-01-07T05:56:46.343525",
     "exception": false,
     "start_time": "2021-01-07T05:56:46.302089",
     "status": "completed"
    },
    "tags": []
   },
   "outputs": [],
   "source": [
    "# Impute Alley missing values with NA = no alley\n",
    "all_data.Alley.fillna('NA', inplace=True)"
   ]
  },
  {
   "cell_type": "code",
   "execution_count": 8,
   "metadata": {
    "execution": {
     "iopub.execute_input": "2021-01-07T05:56:46.411518Z",
     "iopub.status.busy": "2021-01-07T05:56:46.410835Z",
     "iopub.status.idle": "2021-01-07T05:56:46.417116Z",
     "shell.execute_reply": "2021-01-07T05:56:46.416499Z"
    },
    "papermill": {
     "duration": 0.04306,
     "end_time": "2021-01-07T05:56:46.417227",
     "exception": false,
     "start_time": "2021-01-07T05:56:46.374167",
     "status": "completed"
    },
    "tags": []
   },
   "outputs": [
    {
     "data": {
      "text/plain": [
       "Gd    744\n",
       "TA    592\n",
       "Fa     74\n",
       "Po     46\n",
       "Ex     43\n",
       "Name: FireplaceQu, dtype: int64"
      ]
     },
     "execution_count": 8,
     "metadata": {},
     "output_type": "execute_result"
    }
   ],
   "source": [
    "# Next, look at FireplaceQu\n",
    "all_data.FireplaceQu.value_counts()"
   ]
  },
  {
   "cell_type": "code",
   "execution_count": 9,
   "metadata": {
    "execution": {
     "iopub.execute_input": "2021-01-07T05:56:46.486389Z",
     "iopub.status.busy": "2021-01-07T05:56:46.485736Z",
     "iopub.status.idle": "2021-01-07T05:56:46.489124Z",
     "shell.execute_reply": "2021-01-07T05:56:46.488558Z"
    },
    "papermill": {
     "duration": 0.040592,
     "end_time": "2021-01-07T05:56:46.489233",
     "exception": false,
     "start_time": "2021-01-07T05:56:46.448641",
     "status": "completed"
    },
    "tags": []
   },
   "outputs": [],
   "source": [
    "# Impute FireplaceQu missing values with NF = no fireplace\n",
    "all_data.FireplaceQu.fillna('NF', inplace=True)\n",
    "\n",
    "# Consider further feature engineering with compined Fireplaces/FireplaceQu feature"
   ]
  },
  {
   "cell_type": "code",
   "execution_count": 10,
   "metadata": {
    "execution": {
     "iopub.execute_input": "2021-01-07T05:56:46.559844Z",
     "iopub.status.busy": "2021-01-07T05:56:46.559143Z",
     "iopub.status.idle": "2021-01-07T05:56:46.562223Z",
     "shell.execute_reply": "2021-01-07T05:56:46.562765Z"
    },
    "papermill": {
     "duration": 0.04223,
     "end_time": "2021-01-07T05:56:46.562900",
     "exception": false,
     "start_time": "2021-01-07T05:56:46.520670",
     "status": "completed"
    },
    "tags": []
   },
   "outputs": [
    {
     "data": {
      "text/plain": [
       "Gd    4\n",
       "Ex    4\n",
       "Fa    2\n",
       "Name: PoolQC, dtype: int64"
      ]
     },
     "execution_count": 10,
     "metadata": {},
     "output_type": "execute_result"
    }
   ],
   "source": [
    "# Next, look at PoolQC\n",
    "all_data.PoolQC.value_counts()"
   ]
  },
  {
   "cell_type": "code",
   "execution_count": 11,
   "metadata": {
    "execution": {
     "iopub.execute_input": "2021-01-07T05:56:46.629617Z",
     "iopub.status.busy": "2021-01-07T05:56:46.629001Z",
     "iopub.status.idle": "2021-01-07T05:56:46.633802Z",
     "shell.execute_reply": "2021-01-07T05:56:46.634384Z"
    },
    "papermill": {
     "duration": 0.039439,
     "end_time": "2021-01-07T05:56:46.634532",
     "exception": false,
     "start_time": "2021-01-07T05:56:46.595093",
     "status": "completed"
    },
    "tags": []
   },
   "outputs": [],
   "source": [
    "# Impute PoolQC missing values with NP = no pool\n",
    "all_data.PoolQC.fillna('NP', inplace=True)\n",
    "\n",
    "# Consider further feature engineering with compined PoolArea/PoolQC feature"
   ]
  },
  {
   "cell_type": "code",
   "execution_count": 12,
   "metadata": {
    "execution": {
     "iopub.execute_input": "2021-01-07T05:56:46.707593Z",
     "iopub.status.busy": "2021-01-07T05:56:46.706648Z",
     "iopub.status.idle": "2021-01-07T05:56:46.712551Z",
     "shell.execute_reply": "2021-01-07T05:56:46.711969Z"
    },
    "papermill": {
     "duration": 0.045519,
     "end_time": "2021-01-07T05:56:46.712671",
     "exception": false,
     "start_time": "2021-01-07T05:56:46.667152",
     "status": "completed"
    },
    "tags": []
   },
   "outputs": [
    {
     "data": {
      "text/plain": [
       "MnPrv    329\n",
       "GdPrv    118\n",
       "GdWo     112\n",
       "MnWw      12\n",
       "Name: Fence, dtype: int64"
      ]
     },
     "execution_count": 12,
     "metadata": {},
     "output_type": "execute_result"
    }
   ],
   "source": [
    "# Next, look at Fence\n",
    "all_data.Fence.value_counts()"
   ]
  },
  {
   "cell_type": "code",
   "execution_count": 13,
   "metadata": {
    "execution": {
     "iopub.execute_input": "2021-01-07T05:56:46.786880Z",
     "iopub.status.busy": "2021-01-07T05:56:46.786094Z",
     "iopub.status.idle": "2021-01-07T05:56:46.790055Z",
     "shell.execute_reply": "2021-01-07T05:56:46.789435Z"
    },
    "papermill": {
     "duration": 0.044551,
     "end_time": "2021-01-07T05:56:46.790175",
     "exception": false,
     "start_time": "2021-01-07T05:56:46.745624",
     "status": "completed"
    },
    "tags": []
   },
   "outputs": [],
   "source": [
    "# Impute Fence missing values with NF = no fence\n",
    "all_data.Fence.fillna('NF', inplace=True)"
   ]
  },
  {
   "cell_type": "code",
   "execution_count": 14,
   "metadata": {
    "execution": {
     "iopub.execute_input": "2021-01-07T05:56:46.864803Z",
     "iopub.status.busy": "2021-01-07T05:56:46.862881Z",
     "iopub.status.idle": "2021-01-07T05:56:46.867884Z",
     "shell.execute_reply": "2021-01-07T05:56:46.867235Z"
    },
    "papermill": {
     "duration": 0.044377,
     "end_time": "2021-01-07T05:56:46.867991",
     "exception": false,
     "start_time": "2021-01-07T05:56:46.823614",
     "status": "completed"
    },
    "tags": []
   },
   "outputs": [],
   "source": [
    "all_data = all_data.drop(['Alley', 'FireplaceQu', 'PoolQC', 'Fence'], axis=1)\n",
    "# categorical_columns = categorical_columns.remove('Alley', 'FireplaceQu', 'PoolQC', 'Fence')"
   ]
  },
  {
   "cell_type": "code",
   "execution_count": 15,
   "metadata": {
    "execution": {
     "iopub.execute_input": "2021-01-07T05:56:46.944789Z",
     "iopub.status.busy": "2021-01-07T05:56:46.944036Z",
     "iopub.status.idle": "2021-01-07T05:56:46.962174Z",
     "shell.execute_reply": "2021-01-07T05:56:46.961616Z"
    },
    "papermill": {
     "duration": 0.061309,
     "end_time": "2021-01-07T05:56:46.962322",
     "exception": false,
     "start_time": "2021-01-07T05:56:46.901013",
     "status": "completed"
    },
    "tags": []
   },
   "outputs": [],
   "source": [
    "#Group by neighborhood and fill in missing value by the median LotFrontage of all the neighborhood\n",
    "all_data[\"LotFrontage\"] = all_data.groupby(\"Neighborhood\")[\"LotFrontage\"].transform(\n",
    "    lambda x: x.fillna(x.median()))"
   ]
  },
  {
   "cell_type": "code",
   "execution_count": 16,
   "metadata": {
    "execution": {
     "iopub.execute_input": "2021-01-07T05:56:47.040835Z",
     "iopub.status.busy": "2021-01-07T05:56:47.039960Z",
     "iopub.status.idle": "2021-01-07T05:56:47.103102Z",
     "shell.execute_reply": "2021-01-07T05:56:47.103634Z"
    },
    "papermill": {
     "duration": 0.108372,
     "end_time": "2021-01-07T05:56:47.103801",
     "exception": false,
     "start_time": "2021-01-07T05:56:46.995429",
     "status": "completed"
    },
    "tags": []
   },
   "outputs": [],
   "source": [
    "# Add TotalSF feature\n",
    "all_data['TotalSF'] = all_data['TotalBsmtSF'] + all_data['1stFlrSF'] + all_data['2ndFlrSF']\n",
    "\n",
    "# Add YearsSinceRemodel feature\n",
    "all_data['YrsSinceRemodel'] = all_data['YrSold'] - all_data['YearRemodAdd']\n",
    "\n",
    "# Below feature engineering ideas from jesuchristo on Kaggle\n",
    "# Add Total_Bathrooms feature\n",
    "all_data['Total_Bathrooms'] = (all_data['FullBath'] + (0.5 * all_data['HalfBath']) +\n",
    "                               all_data['BsmtFullBath'] + (0.5 * all_data['BsmtHalfBath']))\n",
    "\n",
    "# Add TotalPorchSF\n",
    "all_data['TotalPorchSf'] = (all_data['OpenPorchSF'] + all_data['3SsnPorch'] +\n",
    "                              all_data['EnclosedPorch'] + all_data['ScreenPorch'] +\n",
    "                              all_data['WoodDeckSF'])\n",
    "\n",
    "# Add HasPool feature\n",
    "all_data['HasPool'] = all_data['PoolArea'].apply(lambda x: 1 if x > 0 else 0)\n",
    "\n",
    "# Add Has2ndFloor feature\n",
    "all_data['Has2ndFloor'] = all_data['2ndFlrSF'].apply(lambda x: 1 if x > 0 else 0)\n",
    "\n",
    "# Add HasGarb feature\n",
    "all_data['HasGarb'] = all_data['GarageArea'].apply(lambda x: 1 if x > 0 else 0)\n",
    "\n",
    "# Add HasBsmt feature\n",
    "all_data['HasBsmt'] = all_data['TotalBsmtSF'].apply(lambda x: 1 if x > 0 else 0)\n",
    "\n",
    "# Add HasFireplace feature\n",
    "all_data['HasFireplace'] = all_data['Fireplaces'].apply(lambda x: 1 if x > 0 else 0)\n",
    "\n",
    "# Some non-numeric features are stored as numeric, change to strings\n",
    "all_data['MSSubClass'] = all_data['MSSubClass'].apply(str)\n",
    "all_data['YrSold'] = all_data['YrSold'].astype(str)\n",
    "all_data['MoSold'] = all_data['MoSold'].astype(str)"
   ]
  },
  {
   "cell_type": "code",
   "execution_count": 17,
   "metadata": {
    "execution": {
     "iopub.execute_input": "2021-01-07T05:56:47.183750Z",
     "iopub.status.busy": "2021-01-07T05:56:47.183081Z",
     "iopub.status.idle": "2021-01-07T05:56:47.187228Z",
     "shell.execute_reply": "2021-01-07T05:56:47.186654Z"
    },
    "papermill": {
     "duration": 0.050648,
     "end_time": "2021-01-07T05:56:47.187434",
     "exception": false,
     "start_time": "2021-01-07T05:56:47.136786",
     "status": "completed"
    },
    "tags": []
   },
   "outputs": [],
   "source": [
    "# Find numeric and categorical features\n",
    "numeric_columns = []\n",
    "categorical_columns = []\n",
    "for c in all_data.columns:\n",
    "    if ((all_data[c].dtype != 'int64') & (all_data[c].dtype != 'float64')):\n",
    "        categorical_columns.append(c)\n",
    "    else:\n",
    "        numeric_columns.append(c)"
   ]
  },
  {
   "cell_type": "code",
   "execution_count": 18,
   "metadata": {
    "execution": {
     "iopub.execute_input": "2021-01-07T05:56:47.307293Z",
     "iopub.status.busy": "2021-01-07T05:56:47.281461Z",
     "iopub.status.idle": "2021-01-07T05:56:47.311011Z",
     "shell.execute_reply": "2021-01-07T05:56:47.310284Z"
    },
    "papermill": {
     "duration": 0.090746,
     "end_time": "2021-01-07T05:56:47.311147",
     "exception": false,
     "start_time": "2021-01-07T05:56:47.220401",
     "status": "completed"
    },
    "tags": []
   },
   "outputs": [],
   "source": [
    "# For all other categorical features with missing values, impute mode\n",
    "for cat in categorical_columns:\n",
    "    if (sum(all_data[cat].isna()) != 0):\n",
    "        all_data[cat].fillna(all_data[cat].mode().iloc[0], inplace=True)"
   ]
  },
  {
   "cell_type": "code",
   "execution_count": 19,
   "metadata": {
    "execution": {
     "iopub.execute_input": "2021-01-07T05:56:47.441850Z",
     "iopub.status.busy": "2021-01-07T05:56:47.423720Z",
     "iopub.status.idle": "2021-01-07T05:56:47.450240Z",
     "shell.execute_reply": "2021-01-07T05:56:47.449723Z"
    },
    "papermill": {
     "duration": 0.089016,
     "end_time": "2021-01-07T05:56:47.450377",
     "exception": false,
     "start_time": "2021-01-07T05:56:47.361361",
     "status": "completed"
    },
    "tags": []
   },
   "outputs": [],
   "source": [
    "# For all numeric features with missing values, impute median\n",
    "for cat in numeric_columns:\n",
    "    if (sum(all_data[cat].isna()) != 0):\n",
    "        all_data[cat].fillna(all_data[cat].mean(), inplace=True)"
   ]
  },
  {
   "cell_type": "code",
   "execution_count": 20,
   "metadata": {
    "execution": {
     "iopub.execute_input": "2021-01-07T05:56:47.524898Z",
     "iopub.status.busy": "2021-01-07T05:56:47.524265Z",
     "iopub.status.idle": "2021-01-07T05:56:47.552112Z",
     "shell.execute_reply": "2021-01-07T05:56:47.551446Z"
    },
    "papermill": {
     "duration": 0.068205,
     "end_time": "2021-01-07T05:56:47.552217",
     "exception": false,
     "start_time": "2021-01-07T05:56:47.484012",
     "status": "completed"
    },
    "tags": []
   },
   "outputs": [
    {
     "name": "stdout",
     "output_type": "stream",
     "text": [
      "<class 'pandas.core.frame.DataFrame'>\n",
      "Int64Index: 2919 entries, 0 to 1458\n",
      "Data columns (total 85 columns):\n",
      " #   Column           Non-Null Count  Dtype  \n",
      "---  ------           --------------  -----  \n",
      " 0   MSSubClass       2919 non-null   object \n",
      " 1   MSZoning         2919 non-null   object \n",
      " 2   LotFrontage      2919 non-null   float64\n",
      " 3   LotArea          2919 non-null   int64  \n",
      " 4   Street           2919 non-null   object \n",
      " 5   LotShape         2919 non-null   object \n",
      " 6   LandContour      2919 non-null   object \n",
      " 7   Utilities        2919 non-null   object \n",
      " 8   LotConfig        2919 non-null   object \n",
      " 9   LandSlope        2919 non-null   object \n",
      " 10  Neighborhood     2919 non-null   object \n",
      " 11  Condition1       2919 non-null   object \n",
      " 12  Condition2       2919 non-null   object \n",
      " 13  BldgType         2919 non-null   object \n",
      " 14  HouseStyle       2919 non-null   object \n",
      " 15  OverallQual      2919 non-null   int64  \n",
      " 16  OverallCond      2919 non-null   int64  \n",
      " 17  YearBuilt        2919 non-null   int64  \n",
      " 18  YearRemodAdd     2919 non-null   int64  \n",
      " 19  RoofStyle        2919 non-null   object \n",
      " 20  RoofMatl         2919 non-null   object \n",
      " 21  Exterior1st      2919 non-null   object \n",
      " 22  Exterior2nd      2919 non-null   object \n",
      " 23  MasVnrType       2919 non-null   object \n",
      " 24  MasVnrArea       2919 non-null   float64\n",
      " 25  ExterQual        2919 non-null   object \n",
      " 26  ExterCond        2919 non-null   object \n",
      " 27  Foundation       2919 non-null   object \n",
      " 28  BsmtQual         2919 non-null   object \n",
      " 29  BsmtCond         2919 non-null   object \n",
      " 30  BsmtExposure     2919 non-null   object \n",
      " 31  BsmtFinType1     2919 non-null   object \n",
      " 32  BsmtFinSF1       2919 non-null   float64\n",
      " 33  BsmtFinType2     2919 non-null   object \n",
      " 34  BsmtFinSF2       2919 non-null   float64\n",
      " 35  BsmtUnfSF        2919 non-null   float64\n",
      " 36  TotalBsmtSF      2919 non-null   float64\n",
      " 37  Heating          2919 non-null   object \n",
      " 38  HeatingQC        2919 non-null   object \n",
      " 39  CentralAir       2919 non-null   object \n",
      " 40  Electrical       2919 non-null   object \n",
      " 41  1stFlrSF         2919 non-null   int64  \n",
      " 42  2ndFlrSF         2919 non-null   int64  \n",
      " 43  LowQualFinSF     2919 non-null   int64  \n",
      " 44  GrLivArea        2919 non-null   int64  \n",
      " 45  BsmtFullBath     2919 non-null   float64\n",
      " 46  BsmtHalfBath     2919 non-null   float64\n",
      " 47  FullBath         2919 non-null   int64  \n",
      " 48  HalfBath         2919 non-null   int64  \n",
      " 49  BedroomAbvGr     2919 non-null   int64  \n",
      " 50  KitchenAbvGr     2919 non-null   int64  \n",
      " 51  KitchenQual      2919 non-null   object \n",
      " 52  TotRmsAbvGrd     2919 non-null   int64  \n",
      " 53  Functional       2919 non-null   object \n",
      " 54  Fireplaces       2919 non-null   int64  \n",
      " 55  GarageType       2919 non-null   object \n",
      " 56  GarageYrBlt      2919 non-null   float64\n",
      " 57  GarageFinish     2919 non-null   object \n",
      " 58  GarageCars       2919 non-null   float64\n",
      " 59  GarageArea       2919 non-null   float64\n",
      " 60  GarageQual       2919 non-null   object \n",
      " 61  GarageCond       2919 non-null   object \n",
      " 62  PavedDrive       2919 non-null   object \n",
      " 63  WoodDeckSF       2919 non-null   int64  \n",
      " 64  OpenPorchSF      2919 non-null   int64  \n",
      " 65  EnclosedPorch    2919 non-null   int64  \n",
      " 66  3SsnPorch        2919 non-null   int64  \n",
      " 67  ScreenPorch      2919 non-null   int64  \n",
      " 68  PoolArea         2919 non-null   int64  \n",
      " 69  MiscFeature      2919 non-null   object \n",
      " 70  MiscVal          2919 non-null   int64  \n",
      " 71  MoSold           2919 non-null   object \n",
      " 72  YrSold           2919 non-null   object \n",
      " 73  SaleType         2919 non-null   object \n",
      " 74  SaleCondition    2919 non-null   object \n",
      " 75  train_test       2919 non-null   int64  \n",
      " 76  TotalSF          2919 non-null   float64\n",
      " 77  YrsSinceRemodel  2919 non-null   int64  \n",
      " 78  Total_Bathrooms  2919 non-null   float64\n",
      " 79  TotalPorchSf     2919 non-null   int64  \n",
      " 80  HasPool          2919 non-null   int64  \n",
      " 81  Has2ndFloor      2919 non-null   int64  \n",
      " 82  HasGarb          2919 non-null   int64  \n",
      " 83  HasBsmt          2919 non-null   int64  \n",
      " 84  HasFireplace     2919 non-null   int64  \n",
      "dtypes: float64(13), int64(30), object(42)\n",
      "memory usage: 1.9+ MB\n"
     ]
    }
   ],
   "source": [
    "all_data.info()"
   ]
  },
  {
   "cell_type": "code",
   "execution_count": 21,
   "metadata": {
    "execution": {
     "iopub.execute_input": "2021-01-07T05:56:47.632904Z",
     "iopub.status.busy": "2021-01-07T05:56:47.627658Z",
     "iopub.status.idle": "2021-01-07T05:56:47.726200Z",
     "shell.execute_reply": "2021-01-07T05:56:47.726745Z"
    },
    "papermill": {
     "duration": 0.140162,
     "end_time": "2021-01-07T05:56:47.726885",
     "exception": false,
     "start_time": "2021-01-07T05:56:47.586723",
     "status": "completed"
    },
    "tags": []
   },
   "outputs": [],
   "source": [
    "# Dummy encode categorical features, and drop features\n",
    "all_data = pd.concat([all_data, pd.get_dummies(all_data[categorical_columns])], axis=1)\n",
    "all_data.drop(categorical_columns, inplace=True, axis=1)"
   ]
  },
  {
   "cell_type": "code",
   "execution_count": 22,
   "metadata": {
    "execution": {
     "iopub.execute_input": "2021-01-07T05:56:47.820451Z",
     "iopub.status.busy": "2021-01-07T05:56:47.819531Z",
     "iopub.status.idle": "2021-01-07T05:56:47.837367Z",
     "shell.execute_reply": "2021-01-07T05:56:47.838208Z"
    },
    "papermill": {
     "duration": 0.075998,
     "end_time": "2021-01-07T05:56:47.838429",
     "exception": false,
     "start_time": "2021-01-07T05:56:47.762431",
     "status": "completed"
    },
    "tags": []
   },
   "outputs": [
    {
     "name": "stdout",
     "output_type": "stream",
     "text": [
      "<class 'pandas.core.frame.DataFrame'>\n",
      "Int64Index: 2919 entries, 0 to 1458\n",
      "Columns: 314 entries, LotFrontage to SaleCondition_Partial\n",
      "dtypes: float64(13), int64(30), uint8(271)\n",
      "memory usage: 1.7 MB\n"
     ]
    }
   ],
   "source": [
    "all_data.info()"
   ]
  },
  {
   "cell_type": "markdown",
   "metadata": {
    "papermill": {
     "duration": 0.053168,
     "end_time": "2021-01-07T05:56:47.952175",
     "exception": false,
     "start_time": "2021-01-07T05:56:47.899007",
     "status": "completed"
    },
    "tags": []
   },
   "source": [
    "## Feature Selection"
   ]
  },
  {
   "cell_type": "code",
   "execution_count": 23,
   "metadata": {
    "execution": {
     "iopub.execute_input": "2021-01-07T05:56:48.064646Z",
     "iopub.status.busy": "2021-01-07T05:56:48.063991Z",
     "iopub.status.idle": "2021-01-07T05:56:48.074552Z",
     "shell.execute_reply": "2021-01-07T05:56:48.073987Z"
    },
    "papermill": {
     "duration": 0.069817,
     "end_time": "2021-01-07T05:56:48.074667",
     "exception": false,
     "start_time": "2021-01-07T05:56:48.004850",
     "status": "completed"
    },
    "tags": []
   },
   "outputs": [],
   "source": [
    "# Recover train and test data sets! \n",
    "X_train = all_data[all_data.train_test==1].drop(['train_test'], axis=1)\n",
    "y_train = train_target\n",
    "X_test = all_data[all_data.train_test==0].drop(['train_test'], axis=1)\n",
    "\n",
    "# X_train_scaled = all_dummies_scaled[all_dummies_scaled.train_test==1].drop(['train_test'], axis=1)\n",
    "\n",
    "feature_names = X_train.columns.values"
   ]
  },
  {
   "cell_type": "code",
   "execution_count": 24,
   "metadata": {
    "execution": {
     "iopub.execute_input": "2021-01-07T05:56:48.150380Z",
     "iopub.status.busy": "2021-01-07T05:56:48.149628Z",
     "iopub.status.idle": "2021-01-07T05:56:52.630620Z",
     "shell.execute_reply": "2021-01-07T05:56:52.630002Z"
    },
    "papermill": {
     "duration": 4.521258,
     "end_time": "2021-01-07T05:56:52.630731",
     "exception": false,
     "start_time": "2021-01-07T05:56:48.109473",
     "status": "completed"
    },
    "tags": []
   },
   "outputs": [
    {
     "data": {
      "text/plain": [
       "GrLivArea           0.025\n",
       "TotalSF             0.024\n",
       "1stFlrSF            0.024\n",
       "LotArea             0.024\n",
       "BsmtUnfSF           0.024\n",
       "                    ...  \n",
       "RoofMatl_ClyTile    0.000\n",
       "RoofMatl_Metal      0.000\n",
       "Utilities_AllPub    0.000\n",
       "MSSubClass_150      0.000\n",
       "RoofMatl_Roll       0.000\n",
       "Length: 313, dtype: float64"
      ]
     },
     "execution_count": 24,
     "metadata": {},
     "output_type": "execute_result"
    }
   ],
   "source": [
    "from sklearn.ensemble import RandomForestClassifier\n",
    "\n",
    "rf = RandomForestClassifier().fit(X_train, y_train)\n",
    "feature_importances = pd.Series(rf.feature_importances_, index=feature_names)\n",
    "feature_importances.sort_values(ascending=False).round(3)"
   ]
  },
  {
   "cell_type": "code",
   "execution_count": 25,
   "metadata": {
    "execution": {
     "iopub.execute_input": "2021-01-07T05:56:52.711130Z",
     "iopub.status.busy": "2021-01-07T05:56:52.709888Z",
     "iopub.status.idle": "2021-01-07T05:56:56.337981Z",
     "shell.execute_reply": "2021-01-07T05:56:56.337288Z"
    },
    "papermill": {
     "duration": 3.671083,
     "end_time": "2021-01-07T05:56:56.338086",
     "exception": false,
     "start_time": "2021-01-07T05:56:52.667003",
     "status": "completed"
    },
    "tags": []
   },
   "outputs": [
    {
     "data": {
      "text/plain": [
       "<matplotlib.axes._subplots.AxesSubplot at 0x7fc67d148290>"
      ]
     },
     "execution_count": 25,
     "metadata": {},
     "output_type": "execute_result"
    },
    {
     "data": {
      "image/png": "[encoded data removed]",
      "text/plain": [
       "<Figure size 1800x1800 with 1 Axes>"
      ]
     },
     "metadata": {
      "needs_background": "light"
     },
     "output_type": "display_data"
    }
   ],
   "source": [
    "# Plot feature importances in a bar chart\n",
    "fig, ax = plt.subplots(1, 1, figsize=(25,25))\n",
    "feature_importances.sort_values().plot.barh(ax=ax)"
   ]
  },
  {
   "cell_type": "code",
   "execution_count": 26,
   "metadata": {
    "execution": {
     "iopub.execute_input": "2021-01-07T05:56:56.428593Z",
     "iopub.status.busy": "2021-01-07T05:56:56.427944Z",
     "iopub.status.idle": "2021-01-07T05:56:56.493508Z",
     "shell.execute_reply": "2021-01-07T05:56:56.492931Z"
    },
    "papermill": {
     "duration": 0.113959,
     "end_time": "2021-01-07T05:56:56.493613",
     "exception": false,
     "start_time": "2021-01-07T05:56:56.379654",
     "status": "completed"
    },
    "tags": []
   },
   "outputs": [],
   "source": [
    "# Use SelectFromModel to pick features of importance\n",
    "from sklearn.feature_selection import SelectFromModel\n",
    "\n",
    "sfm_rf = SelectFromModel(rf, prefit=True, threshold=.006)\n",
    "X_train_reduced = sfm_rf.transform(X_train)\n",
    "X_test_reduced = sfm_rf.transform(X_test)"
   ]
  },
  {
   "cell_type": "code",
   "execution_count": 27,
   "metadata": {
    "execution": {
     "iopub.execute_input": "2021-01-07T05:56:56.580327Z",
     "iopub.status.busy": "2021-01-07T05:56:56.579396Z",
     "iopub.status.idle": "2021-01-07T05:56:56.600268Z",
     "shell.execute_reply": "2021-01-07T05:56:56.599406Z"
    },
    "papermill": {
     "duration": 0.065315,
     "end_time": "2021-01-07T05:56:56.600435",
     "exception": false,
     "start_time": "2021-01-07T05:56:56.535120",
     "status": "completed"
    },
    "tags": []
   },
   "outputs": [
    {
     "name": "stdout",
     "output_type": "stream",
     "text": [
      "(1460, 35)\n",
      "(1459, 35)\n",
      "['LotFrontage' 'LotArea' 'OverallQual' 'OverallCond' 'YearBuilt'\n",
      " 'YearRemodAdd' 'MasVnrArea' 'BsmtFinSF1' 'BsmtUnfSF' 'TotalBsmtSF'\n",
      " '1stFlrSF' '2ndFlrSF' 'GrLivArea' 'BsmtFullBath' 'BedroomAbvGr'\n",
      " 'TotRmsAbvGrd' 'Fireplaces' 'GarageYrBlt' 'GarageCars' 'GarageArea'\n",
      " 'WoodDeckSF' 'OpenPorchSF' 'EnclosedPorch' 'TotalSF' 'YrsSinceRemodel'\n",
      " 'Total_Bathrooms' 'TotalPorchSf' 'LotShape_IR1' 'LotShape_Reg'\n",
      " 'LotConfig_Inside' 'MoSold_6' 'YrSold_2006' 'YrSold_2007' 'YrSold_2008'\n",
      " 'YrSold_2009']\n"
     ]
    }
   ],
   "source": [
    "print(X_train_reduced.shape)\n",
    "print(X_test_reduced.shape)\n",
    "reduced_features = feature_names[sfm_rf.get_support()]\n",
    "print(reduced_features)"
   ]
  },
  {
   "cell_type": "markdown",
   "metadata": {
    "papermill": {
     "duration": 0.042101,
     "end_time": "2021-01-07T05:56:56.699058",
     "exception": false,
     "start_time": "2021-01-07T05:56:56.656957",
     "status": "completed"
    },
    "tags": []
   },
   "source": [
    "## Scaling Data"
   ]
  },
  {
   "cell_type": "code",
   "execution_count": 28,
   "metadata": {
    "execution": {
     "iopub.execute_input": "2021-01-07T05:56:56.790953Z",
     "iopub.status.busy": "2021-01-07T05:56:56.790324Z",
     "iopub.status.idle": "2021-01-07T05:56:56.795847Z",
     "shell.execute_reply": "2021-01-07T05:56:56.796483Z"
    },
    "papermill": {
     "duration": 0.055128,
     "end_time": "2021-01-07T05:56:56.796622",
     "exception": false,
     "start_time": "2021-01-07T05:56:56.741494",
     "status": "completed"
    },
    "tags": []
   },
   "outputs": [],
   "source": [
    "# Scale data using StandardScaler \n",
    "from sklearn.preprocessing import StandardScaler\n",
    "\n",
    "ss = StandardScaler()\n",
    "X_train_reduced_scaled = pd.DataFrame(ss.fit_transform(X_train_reduced),columns=reduced_features)\n",
    "X_test_reduced_scaled = pd.DataFrame(ss.fit_transform(X_test_reduced),columns=reduced_features)"
   ]
  },
  {
   "cell_type": "markdown",
   "metadata": {
    "papermill": {
     "duration": 0.041672,
     "end_time": "2021-01-07T05:56:56.882478",
     "exception": false,
     "start_time": "2021-01-07T05:56:56.840806",
     "status": "completed"
    },
    "tags": []
   },
   "source": [
    "## Model Building"
   ]
  },
  {
   "cell_type": "code",
   "execution_count": 29,
   "metadata": {
    "execution": {
     "iopub.execute_input": "2021-01-07T05:56:56.970300Z",
     "iopub.status.busy": "2021-01-07T05:56:56.969682Z",
     "iopub.status.idle": "2021-01-07T05:56:57.015430Z",
     "shell.execute_reply": "2021-01-07T05:56:57.014744Z"
    },
    "papermill": {
     "duration": 0.090685,
     "end_time": "2021-01-07T05:56:57.015545",
     "exception": false,
     "start_time": "2021-01-07T05:56:56.924860",
     "status": "completed"
    },
    "tags": []
   },
   "outputs": [],
   "source": [
    "# Use cross-validation scoring to get sense of model accuracy\n",
    "from sklearn.model_selection import cross_val_score\n",
    "\n",
    "from sklearn.ensemble import RandomForestRegressor\n",
    "from sklearn.neighbors import KNeighborsRegressor\n",
    "from sklearn.naive_bayes import GaussianNB\n",
    "from sklearn.linear_model import LogisticRegression, LogisticRegressionCV\n",
    "from sklearn.ensemble import GradientBoostingRegressor\n",
    "from sklearn.tree import DecisionTreeRegressor\n",
    "\n",
    "from sklearn.linear_model import LinearRegression\n",
    "from mlxtend.regressor import StackingRegressor\n",
    "from sklearn.ensemble import VotingRegressor\n",
    "from sklearn.svm import SVR\n",
    "\n",
    "from sklearn.model_selection import StratifiedKFold\n",
    "from sklearn.model_selection import GridSearchCV"
   ]
  },
  {
   "cell_type": "code",
   "execution_count": 30,
   "metadata": {
    "execution": {
     "iopub.execute_input": "2021-01-07T05:56:57.109392Z",
     "iopub.status.busy": "2021-01-07T05:56:57.108740Z",
     "iopub.status.idle": "2021-01-07T05:56:57.112758Z",
     "shell.execute_reply": "2021-01-07T05:56:57.112129Z"
    },
    "papermill": {
     "duration": 0.053552,
     "end_time": "2021-01-07T05:56:57.112854",
     "exception": false,
     "start_time": "2021-01-07T05:56:57.059302",
     "status": "completed"
    },
    "tags": []
   },
   "outputs": [],
   "source": [
    "# Score model function\n",
    "def score_model(model, X, y):\n",
    "    return cross_val_score(model, X, y, cv=5)\n",
    "\n",
    "rfr = RandomForestRegressor(n_estimators=100, max_depth=5)\n",
    "knr = KNeighborsRegressor(n_neighbors=10)\n",
    "lr = LinearRegression()\n",
    "dtr = DecisionTreeRegressor()\n",
    "gbr = GradientBoostingRegressor()\n",
    "svr = SVR()"
   ]
  },
  {
   "cell_type": "code",
   "execution_count": 31,
   "metadata": {
    "execution": {
     "iopub.execute_input": "2021-01-07T05:56:57.222292Z",
     "iopub.status.busy": "2021-01-07T05:56:57.217004Z",
     "iopub.status.idle": "2021-01-07T05:57:06.521694Z",
     "shell.execute_reply": "2021-01-07T05:57:06.522408Z"
    },
    "papermill": {
     "duration": 9.367838,
     "end_time": "2021-01-07T05:57:06.522599",
     "exception": false,
     "start_time": "2021-01-07T05:56:57.154761",
     "status": "completed"
    },
    "tags": []
   },
   "outputs": [
    {
     "name": "stdout",
     "output_type": "stream",
     "text": [
      "Random Forest Regressor: 0.8378637393157753\n",
      "K Neighbors Regressor: 0.7819421015873035\n",
      "Linear Regression: 0.7730978558241809\n",
      "Decision Tree Regressor: 0.7446315031411821\n",
      "Gradient Boosting Regressor: 0.8909348735694183\n",
      "Support Vector Regressor: -0.050863500685504534\n"
     ]
    }
   ],
   "source": [
    "print(f'Random Forest Regressor: {np.mean(score_model(rfr, X_train_reduced_scaled, y_train))}')\n",
    "print(f'K Neighbors Regressor: {np.mean(score_model(knr, X_train_reduced_scaled, y_train))}')\n",
    "print(f'Linear Regression: {np.mean(score_model(lr, X_train_reduced_scaled, y_train))}')\n",
    "print(f'Decision Tree Regressor: {np.mean(score_model(dtr, X_train_reduced_scaled, y_train))}')\n",
    "print(f'Gradient Boosting Regressor: {np.mean(score_model(gbr, X_train_reduced_scaled, y_train))}')\n",
    "print(f'Support Vector Regressor: {np.mean(score_model(svr, X_train_reduced_scaled, y_train))}')"
   ]
  },
  {
   "cell_type": "markdown",
   "metadata": {
    "papermill": {
     "duration": 0.044651,
     "end_time": "2021-01-07T05:57:06.613330",
     "exception": false,
     "start_time": "2021-01-07T05:57:06.568679",
     "status": "completed"
    },
    "tags": []
   },
   "source": [
    "## Hyperparameter Tuning"
   ]
  },
  {
   "cell_type": "code",
   "execution_count": 32,
   "metadata": {
    "execution": {
     "iopub.execute_input": "2021-01-07T05:57:06.717959Z",
     "iopub.status.busy": "2021-01-07T05:57:06.712844Z",
     "iopub.status.idle": "2021-01-07T05:57:06.725930Z",
     "shell.execute_reply": "2021-01-07T05:57:06.726449Z"
    },
    "papermill": {
     "duration": 0.067869,
     "end_time": "2021-01-07T05:57:06.726602",
     "exception": false,
     "start_time": "2021-01-07T05:57:06.658733",
     "status": "completed"
    },
    "tags": []
   },
   "outputs": [],
   "source": [
    "test_params_rfr=False\n",
    "if test_params_rfr:\n",
    "    mean_scores_estimators = []\n",
    "    for estimators in [250, 200, 100, 50]:\n",
    "        rfr = RandomForestRegressor(n_estimators=estimators)\n",
    "        scores = cross_val_score(rfr,X_train_reduced_scaled,y_train,cv=5)\n",
    "        mean_scores_estimators.append( (estimators,scores.mean()) )\n",
    "\n",
    "    for estimators,mean_score in mean_scores_estimators:\n",
    "         print(f'{estimators} : {mean_score: 0.3f}')\n",
    "            \n",
    "    mean_scores_depth = []\n",
    "    for depth in [3, 5, 10, 13]:\n",
    "        rfr = RandomForestRegressor(max_depth=depth)\n",
    "        scores = cross_val_score(rfr,X_train_reduced_scaled,y_train,cv=5)\n",
    "        mean_scores_depth.append( (depth,scores.mean()) )\n",
    "\n",
    "    for depth,mean_score in mean_scores_depth:\n",
    "         print(f'{depth} : {mean_score: 0.3f}')\n",
    "            \n",
    "    mean_scores_features = []\n",
    "    for features in ['sqrt', 'auto', 'log2']:\n",
    "        rfr = RandomForestRegressor(max_features=features)\n",
    "        scores = cross_val_score(rfr,X_train_reduced_scaled,y_train,cv=5)\n",
    "        mean_scores_features.append( (features,scores.mean()) )\n",
    "\n",
    "    for features,mean_score in mean_scores_features:\n",
    "         print(f'{features} : {mean_score: 0.3f}')\n",
    "else:\n",
    "    rfr = RandomForestRegressor(n_estimators=100, max_depth=10, max_features='auto')"
   ]
  },
  {
   "cell_type": "code",
   "execution_count": 33,
   "metadata": {
    "execution": {
     "iopub.execute_input": "2021-01-07T05:57:06.831765Z",
     "iopub.status.busy": "2021-01-07T05:57:06.826839Z",
     "iopub.status.idle": "2021-01-07T05:57:06.834871Z",
     "shell.execute_reply": "2021-01-07T05:57:06.834194Z"
    },
    "papermill": {
     "duration": 0.063273,
     "end_time": "2021-01-07T05:57:06.834980",
     "exception": false,
     "start_time": "2021-01-07T05:57:06.771707",
     "status": "completed"
    },
    "tags": []
   },
   "outputs": [],
   "source": [
    "test_params_gbr=False\n",
    "if test_params_gbr:\n",
    "    mean_scores_estimators = []\n",
    "    for estimators in [250, 200, 100, 50]:\n",
    "        gbr = GradientBoostingRegressor(n_estimators=estimators)\n",
    "        scores = cross_val_score(gbr,X_train_reduced_scaled,y_train,cv=5)\n",
    "        mean_scores_estimators.append( (estimators,scores.mean()) )\n",
    "\n",
    "    for estimators,mean_score in mean_scores_estimators:\n",
    "         print(f'{estimators} : {mean_score: 0.3f}')\n",
    "            \n",
    "    mean_scores_depth = []\n",
    "    for depth in [1, 2, 3, 5, 10]:\n",
    "        gbr = GradientBoostingRegressor(max_depth=depth)\n",
    "        scores = cross_val_score(gbr,X_train_reduced_scaled,y_train,cv=5)\n",
    "        mean_scores_depth.append( (depth,scores.mean()) )\n",
    "\n",
    "    for depth,mean_score in mean_scores_depth:\n",
    "         print(f'{depth} : {mean_score: 0.3f}')\n",
    "            \n",
    "    mean_scores_features = []\n",
    "    for features in ['sqrt', 'auto', 'log2']:\n",
    "        gbr = GradientBoostingRegressor(max_features=features)\n",
    "        scores = cross_val_score(gbr,X_train_reduced_scaled,y_train,cv=5)\n",
    "        mean_scores_features.append( (features,scores.mean()) )\n",
    "\n",
    "    for features,mean_score in mean_scores_features:\n",
    "         print(f'{features} : {mean_score: 0.3f}')\n",
    "else:\n",
    "    gbr = GradientBoostingRegressor(n_estimators=200, max_depth=3, max_features='auto')"
   ]
  },
  {
   "cell_type": "code",
   "execution_count": 34,
   "metadata": {
    "execution": {
     "iopub.execute_input": "2021-01-07T05:57:06.939192Z",
     "iopub.status.busy": "2021-01-07T05:57:06.934813Z",
     "iopub.status.idle": "2021-01-07T05:57:06.942038Z",
     "shell.execute_reply": "2021-01-07T05:57:06.941422Z"
    },
    "papermill": {
     "duration": 0.06221,
     "end_time": "2021-01-07T05:57:06.942143",
     "exception": false,
     "start_time": "2021-01-07T05:57:06.879933",
     "status": "completed"
    },
    "tags": []
   },
   "outputs": [],
   "source": [
    "test_params_knr=False\n",
    "if test_params_knr:\n",
    "    mean_scores_neighbors = []\n",
    "    for neighbors in [3, 5, 7, 10, 15]:\n",
    "        knr = KNeighborsRegressor(n_neighbors=neighbors)\n",
    "        scores = cross_val_score(knr,X_train_reduced_scaled,y_train,cv=5)\n",
    "        mean_scores_neighbors.append( (neighbors,scores.mean()) )\n",
    "\n",
    "    for neighbors,mean_score in mean_scores_neighbors:\n",
    "         print(f'{neighbors} : {mean_score: 0.3f}')\n",
    "            \n",
    "    mean_scores_p = []\n",
    "    for p_val in [1,2]:\n",
    "        knr = KNeighborsRegressor(p=p_val)\n",
    "        scores = cross_val_score(knr,X_train_reduced_scaled,y_train,cv=5)\n",
    "        mean_scores_p.append( (p_val,scores.mean()) )\n",
    "\n",
    "    for p_val,mean_score in mean_scores_p:\n",
    "         print(f'{p_val} : {mean_score: 0.3f}')\n",
    "            \n",
    "    mean_scores_leafsize = []\n",
    "    for leaf in [10, 30, 50]:\n",
    "        knr = KNeighborsRegressor(leaf_size=leaf)\n",
    "        scores = cross_val_score(knr,X_train_reduced_scaled,y_train,cv=5)\n",
    "        mean_scores_leafsize.append( (leaf,scores.mean()) )\n",
    "\n",
    "    for leaf,mean_score in mean_scores_leafsize:\n",
    "         print(f'{leaf} : {mean_score: 0.3f}')\n",
    "else:\n",
    "    knr = KNeighborsRegressor(n_neighbors=10, p=1, leaf_size=30)"
   ]
  },
  {
   "cell_type": "code",
   "execution_count": 35,
   "metadata": {
    "execution": {
     "iopub.execute_input": "2021-01-07T05:57:07.054548Z",
     "iopub.status.busy": "2021-01-07T05:57:07.049221Z",
     "iopub.status.idle": "2021-01-07T05:57:35.239633Z",
     "shell.execute_reply": "2021-01-07T05:57:35.239048Z"
    },
    "papermill": {
     "duration": 28.252864,
     "end_time": "2021-01-07T05:57:35.239749",
     "exception": false,
     "start_time": "2021-01-07T05:57:06.986885",
     "status": "completed"
    },
    "tags": []
   },
   "outputs": [
    {
     "name": "stdout",
     "output_type": "stream",
     "text": [
      "Voting Regressor: 0.8731078856963335\n",
      "Stacking Regressor: 0.8751086871117515\n"
     ]
    }
   ],
   "source": [
    "ensemble_models_vr = ([('rfr', rfr), ('gbr', gbr), ('knr', knr)])\n",
    "ensemble_models_sr = [rfr, gbr, knr]\n",
    "voting_reg = VotingRegressor(estimators=ensemble_models_vr)\n",
    "stack_r = StackingRegressor(ensemble_models_sr, LinearRegression())\n",
    "\n",
    "print(f'Voting Regressor: {np.mean(score_model(voting_reg, X_train_reduced_scaled, y_train))}')\n",
    "print(f'Stacking Regressor: {np.mean(score_model(stack_r, X_train_reduced_scaled, y_train))}')"
   ]
  },
  {
   "cell_type": "code",
   "execution_count": 36,
   "metadata": {
    "execution": {
     "iopub.execute_input": "2021-01-07T05:57:35.342693Z",
     "iopub.status.busy": "2021-01-07T05:57:35.342015Z",
     "iopub.status.idle": "2021-01-07T05:57:37.502531Z",
     "shell.execute_reply": "2021-01-07T05:57:37.503711Z"
    },
    "papermill": {
     "duration": 2.217393,
     "end_time": "2021-01-07T05:57:37.503871",
     "exception": false,
     "start_time": "2021-01-07T05:57:35.286478",
     "status": "completed"
    },
    "tags": []
   },
   "outputs": [
    {
     "name": "stdout",
     "output_type": "stream",
     "text": [
      "Your submission was successfully saved!\n"
     ]
    }
   ],
   "source": [
    "gbr.fit(X_train_reduced_scaled, y_train)\n",
    "predictions = gbr.predict(X_test_reduced_scaled) \n",
    "\n",
    "output = pd.DataFrame({'Id':test_data.Id, 'SalePrice':predictions})\n",
    "output.to_csv('mysubmission.csv', index=False)\n",
    "\n",
    "print(\"Your submission was successfully saved!\")"
   ]
  }
 ],
 "metadata": {
  "kernelspec": {
   "display_name": "Python 3",
   "language": "python",
   "name": "python3"
  },
  "language_info": {
   "codemirror_mode": {
    "name": "ipython",
    "version": 3
   },
   "file_extension": ".py",
   "mimetype": "text/x-python",
   "name": "python",
   "nbconvert_exporter": "python",
   "pygments_lexer": "ipython3",
   "version": "3.7.6"
  },
  "papermill": {
   "duration": 58.807363,
   "end_time": "2021-01-07T05:57:37.658089",
   "environment_variables": {},
   "exception": null,
   "input_path": "__notebook__.ipynb",
   "output_path": "__notebook__.ipynb",
   "parameters": {},
   "start_time": "2021-01-07T05:56:38.850726",
   "version": "2.1.0"
  }
 },
 "nbformat": 4,
 "nbformat_minor": 4
}
